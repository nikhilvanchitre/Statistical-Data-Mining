{
 "cells": [
  {
   "cell_type": "code",
   "execution_count": 2,
   "metadata": {},
   "outputs": [
    {
     "data": {
      "text/html": [
       "<table>\n",
       "<thead><tr><th scope=col>Price</th><th scope=col>SqFt</th><th scope=col>Bedrooms</th><th scope=col>Bathrooms</th><th scope=col>Offers</th><th scope=col>Brick</th><th scope=col>Neighborhood</th></tr></thead>\n",
       "<tbody>\n",
       "\t<tr><td>114300</td><td>1790  </td><td>2     </td><td>2     </td><td>2     </td><td>No    </td><td>East  </td></tr>\n",
       "\t<tr><td>114200</td><td>2030  </td><td>4     </td><td>2     </td><td>3     </td><td>No    </td><td>East  </td></tr>\n",
       "\t<tr><td>114800</td><td>1740  </td><td>3     </td><td>2     </td><td>1     </td><td>No    </td><td>East  </td></tr>\n",
       "\t<tr><td> 94700</td><td>1980  </td><td>3     </td><td>2     </td><td>3     </td><td>No    </td><td>East  </td></tr>\n",
       "\t<tr><td>119800</td><td>2130  </td><td>3     </td><td>3     </td><td>3     </td><td>No    </td><td>East  </td></tr>\n",
       "\t<tr><td>114600</td><td>1780  </td><td>3     </td><td>2     </td><td>2     </td><td>No    </td><td>North </td></tr>\n",
       "</tbody>\n",
       "</table>\n"
      ],
      "text/latex": [
       "\\begin{tabular}{r|lllllll}\n",
       " Price & SqFt & Bedrooms & Bathrooms & Offers & Brick & Neighborhood\\\\\n",
       "\\hline\n",
       "\t 114300 & 1790   & 2      & 2      & 2      & No     & East  \\\\\n",
       "\t 114200 & 2030   & 4      & 2      & 3      & No     & East  \\\\\n",
       "\t 114800 & 1740   & 3      & 2      & 1      & No     & East  \\\\\n",
       "\t  94700 & 1980   & 3      & 2      & 3      & No     & East  \\\\\n",
       "\t 119800 & 2130   & 3      & 3      & 3      & No     & East  \\\\\n",
       "\t 114600 & 1780   & 3      & 2      & 2      & No     & North \\\\\n",
       "\\end{tabular}\n"
      ],
      "text/markdown": [
       "\n",
       "Price | SqFt | Bedrooms | Bathrooms | Offers | Brick | Neighborhood | \n",
       "|---|---|---|---|---|---|\n",
       "| 114300 | 1790   | 2      | 2      | 2      | No     | East   | \n",
       "| 114200 | 2030   | 4      | 2      | 3      | No     | East   | \n",
       "| 114800 | 1740   | 3      | 2      | 1      | No     | East   | \n",
       "|  94700 | 1980   | 3      | 2      | 3      | No     | East   | \n",
       "| 119800 | 2130   | 3      | 3      | 3      | No     | East   | \n",
       "| 114600 | 1780   | 3      | 2      | 2      | No     | North  | \n",
       "\n",
       "\n"
      ],
      "text/plain": [
       "  Price  SqFt Bedrooms Bathrooms Offers Brick Neighborhood\n",
       "1 114300 1790 2        2         2      No    East        \n",
       "2 114200 2030 4        2         3      No    East        \n",
       "3 114800 1740 3        2         1      No    East        \n",
       "4  94700 1980 3        2         3      No    East        \n",
       "5 119800 2130 3        3         3      No    East        \n",
       "6 114600 1780 3        2         2      No    North       "
      ]
     },
     "metadata": {},
     "output_type": "display_data"
    }
   ],
   "source": [
    "data <- read.csv(choose.files())\n",
    "head(data)"
   ]
  },
  {
   "cell_type": "code",
   "execution_count": 4,
   "metadata": {},
   "outputs": [
    {
     "data": {
      "image/png": "[encoded data removed]",
      "text/plain": [
       "plot without title"
      ]
     },
     "metadata": {},
     "output_type": "display_data"
    }
   ],
   "source": [
    "plot(data$Price ~ data$SqFt)"
   ]
  },
  {
   "cell_type": "code",
   "execution_count": 8,
   "metadata": {},
   "outputs": [],
   "source": [
    "Price <- data$Price\n",
    "SqFt <- data$SqFt\n"
   ]
  },
  {
   "cell_type": "code",
   "execution_count": 18,
   "metadata": {},
   "outputs": [
    {
     "data": {
      "text/plain": [
       "\n",
       "Call:\n",
       "lm(formula = Price ~ SqFt, data = data)\n",
       "\n",
       "Residuals:\n",
       "   Min     1Q Median     3Q    Max \n",
       "-46593 -16644  -1610  15124  54829 \n",
       "\n",
       "Coefficients:\n",
       "              Estimate Std. Error t value Pr(>|t|)    \n",
       "(Intercept) -10091.130  18966.104  -0.532    0.596    \n",
       "SqFt            70.226      9.426   7.450  1.3e-11 ***\n",
       "---\n",
       "Signif. codes:  0 '***' 0.001 '**' 0.01 '*' 0.05 '.' 0.1 ' ' 1\n",
       "\n",
       "Residual standard error: 22480 on 126 degrees of freedom\n",
       "Multiple R-squared:  0.3058,\tAdjusted R-squared:  0.3003 \n",
       "F-statistic:  55.5 on 1 and 126 DF,  p-value: 1.302e-11\n"
      ]
     },
     "metadata": {},
     "output_type": "display_data"
    }
   ],
   "source": [
    "m <- lm(formula = Price~SqFt, data = data)\n",
    "summary(m)"
   ]
  },
  {
   "cell_type": "code",
   "execution_count": 19,
   "metadata": {},
   "outputs": [
    {
     "data": {
      "text/plain": [
       "\n",
       "Call:\n",
       "lm(formula = Price ~ ., data = data)\n",
       "\n",
       "Residuals:\n",
       "     Min       1Q   Median       3Q      Max \n",
       "-27337.3  -6549.5    -41.7   5803.4  27359.3 \n",
       "\n",
       "Coefficients:\n",
       "                   Estimate Std. Error t value Pr(>|t|)    \n",
       "(Intercept)         598.919   9552.197   0.063  0.95011    \n",
       "SqFt                 52.994      5.734   9.242 1.10e-15 ***\n",
       "Bedrooms           4246.794   1597.911   2.658  0.00894 ** \n",
       "Bathrooms          7883.278   2117.035   3.724  0.00030 ***\n",
       "Offers            -8267.488   1084.777  -7.621 6.47e-12 ***\n",
       "BrickYes          17297.350   1981.616   8.729 1.78e-14 ***\n",
       "NeighborhoodNorth  1560.579   2396.765   0.651  0.51621    \n",
       "NeighborhoodWest  22241.616   2531.758   8.785 1.32e-14 ***\n",
       "---\n",
       "Signif. codes:  0 '***' 0.001 '**' 0.01 '*' 0.05 '.' 0.1 ' ' 1\n",
       "\n",
       "Residual standard error: 10020 on 120 degrees of freedom\n",
       "Multiple R-squared:  0.8686,\tAdjusted R-squared:  0.861 \n",
       "F-statistic: 113.3 on 7 and 120 DF,  p-value: < 2.2e-16\n"
      ]
     },
     "metadata": {},
     "output_type": "display_data"
    }
   ],
   "source": [
    "m <- lm(formula = Price~., data = data)\n",
    "summary(m)"
   ]
  },
  {
   "cell_type": "code",
   "execution_count": 20,
   "metadata": {},
   "outputs": [
    {
     "data": {
      "text/html": [
       "2731.31898140125"
      ],
      "text/latex": [
       "2731.31898140125"
      ],
      "text/markdown": [
       "2731.31898140125"
      ],
      "text/plain": [
       "[1] 2731.319"
      ]
     },
     "metadata": {},
     "output_type": "display_data"
    }
   ],
   "source": [
    "AIC(m)"
   ]
  },
  {
   "cell_type": "code",
   "execution_count": 21,
   "metadata": {},
   "outputs": [
    {
     "data": {
      "text/html": [
       "2756.98725377653"
      ],
      "text/latex": [
       "2756.98725377653"
      ],
      "text/markdown": [
       "2756.98725377653"
      ],
      "text/plain": [
       "[1] 2756.987"
      ]
     },
     "metadata": {},
     "output_type": "display_data"
    }
   ],
   "source": [
    "BIC(m)"
   ]
  }
 ],
 "metadata": {
  "kernelspec": {
   "display_name": "R",
   "language": "R",
   "name": "ir"
  },
  "language_info": {
   "codemirror_mode": "r",
   "file_extension": ".r",
   "mimetype": "text/x-r-source",
   "name": "R",
   "pygments_lexer": "r",
   "version": "3.4.3"
  }
 },
 "nbformat": 4,
 "nbformat_minor": 2
}
