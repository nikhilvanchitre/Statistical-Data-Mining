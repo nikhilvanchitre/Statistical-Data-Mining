{
 "cells": [
  {
   "cell_type": "markdown",
   "metadata": {},
   "source": [
    "# Assignment No 4\n",
    "\n",
    "The following questions refer to the dataset “Autoparts.csv” posted on Canvas. The data contains information about sales of auto parts from 18 sales regions around the USA. For each region, we have data on sales amount (in thousands of dollars, denoted by “Sales”), the amount of money spent on marketing (in thousands of dollars, denoted by “Mktg”) as well as the number of sales outlets, the size of the population (measured in millions), the number of registered vehicles (also measured in millions), and the number of sales reps per region. The following questions refer to this data.\n"
   ]
  },
  {
   "cell_type": "code",
   "execution_count": 5,
   "metadata": {},
   "outputs": [
    {
     "data": {
      "text/html": [
       "<table>\n",
       "<thead><tr><th scope=col>Region</th><th scope=col>Sales</th><th scope=col>Mktg</th><th scope=col>Outlets</th><th scope=col>Popn</th><th scope=col>Vehicles</th><th scope=col>Reps</th></tr></thead>\n",
       "<tbody>\n",
       "\t<tr><td> 1 </td><td> 78</td><td>482</td><td>482</td><td>3  </td><td>1  </td><td> 8 </td></tr>\n",
       "\t<tr><td> 2 </td><td> 59</td><td>429</td><td>262</td><td>2  </td><td>1  </td><td>10 </td></tr>\n",
       "\t<tr><td> 3 </td><td> 71</td><td> 84</td><td>604</td><td>4  </td><td>1  </td><td>11 </td></tr>\n",
       "\t<tr><td> 4 </td><td>117</td><td>245</td><td>837</td><td>5  </td><td>2  </td><td>13 </td></tr>\n",
       "\t<tr><td> 5 </td><td> 99</td><td>134</td><td>819</td><td>7  </td><td>3  </td><td> 9 </td></tr>\n",
       "\t<tr><td> 6 </td><td>127</td><td>461</td><td>939</td><td>7  </td><td>3  </td><td>14 </td></tr>\n",
       "\t<tr><td> 7 </td><td> 38</td><td>323</td><td>158</td><td>1  </td><td>0  </td><td> 6 </td></tr>\n",
       "\t<tr><td> 8 </td><td> 79</td><td>351</td><td>497</td><td>3  </td><td>1  </td><td> 9 </td></tr>\n",
       "\t<tr><td> 9 </td><td>104</td><td>298</td><td>796</td><td>6  </td><td>2  </td><td>14 </td></tr>\n",
       "\t<tr><td>10 </td><td> 47</td><td>253</td><td>305</td><td>3  </td><td>1  </td><td> 7 </td></tr>\n",
       "\t<tr><td>11 </td><td> 61</td><td>335</td><td>394</td><td>3  </td><td>1  </td><td> 8 </td></tr>\n",
       "\t<tr><td>12 </td><td> 38</td><td>329</td><td>169</td><td>1  </td><td>0  </td><td> 7 </td></tr>\n",
       "\t<tr><td>13 </td><td> 39</td><td>396</td><td>134</td><td>1  </td><td>0  </td><td> 5 </td></tr>\n",
       "\t<tr><td>14 </td><td> 61</td><td>261</td><td>330</td><td>2  </td><td>1  </td><td> 6 </td></tr>\n",
       "\t<tr><td>15 </td><td> 61</td><td>474</td><td>375</td><td>2  </td><td>1  </td><td> 9 </td></tr>\n",
       "\t<tr><td>16 </td><td>121</td><td>349</td><td>873</td><td>5  </td><td>2  </td><td>12 </td></tr>\n",
       "\t<tr><td>17 </td><td> 76</td><td>549</td><td>422</td><td>3  </td><td>1  </td><td> 8 </td></tr>\n",
       "\t<tr><td>18 </td><td> 67</td><td>286</td><td>459</td><td>3  </td><td>1  </td><td>10 </td></tr>\n",
       "</tbody>\n",
       "</table>\n"
      ],
      "text/latex": [
       "\\begin{tabular}{r|lllllll}\n",
       " Region & Sales & Mktg & Outlets & Popn & Vehicles & Reps\\\\\n",
       "\\hline\n",
       "\t  1  &  78 & 482 & 482 & 3   & 1   &  8 \\\\\n",
       "\t  2  &  59 & 429 & 262 & 2   & 1   & 10 \\\\\n",
       "\t  3  &  71 &  84 & 604 & 4   & 1   & 11 \\\\\n",
       "\t  4  & 117 & 245 & 837 & 5   & 2   & 13 \\\\\n",
       "\t  5  &  99 & 134 & 819 & 7   & 3   &  9 \\\\\n",
       "\t  6  & 127 & 461 & 939 & 7   & 3   & 14 \\\\\n",
       "\t  7  &  38 & 323 & 158 & 1   & 0   &  6 \\\\\n",
       "\t  8  &  79 & 351 & 497 & 3   & 1   &  9 \\\\\n",
       "\t  9  & 104 & 298 & 796 & 6   & 2   & 14 \\\\\n",
       "\t 10  &  47 & 253 & 305 & 3   & 1   &  7 \\\\\n",
       "\t 11  &  61 & 335 & 394 & 3   & 1   &  8 \\\\\n",
       "\t 12  &  38 & 329 & 169 & 1   & 0   &  7 \\\\\n",
       "\t 13  &  39 & 396 & 134 & 1   & 0   &  5 \\\\\n",
       "\t 14  &  61 & 261 & 330 & 2   & 1   &  6 \\\\\n",
       "\t 15  &  61 & 474 & 375 & 2   & 1   &  9 \\\\\n",
       "\t 16  & 121 & 349 & 873 & 5   & 2   & 12 \\\\\n",
       "\t 17  &  76 & 549 & 422 & 3   & 1   &  8 \\\\\n",
       "\t 18  &  67 & 286 & 459 & 3   & 1   & 10 \\\\\n",
       "\\end{tabular}\n"
      ],
      "text/markdown": [
       "\n",
       "Region | Sales | Mktg | Outlets | Popn | Vehicles | Reps | \n",
       "|---|---|---|---|---|---|---|---|---|---|---|---|---|---|---|---|---|---|\n",
       "|  1  |  78 | 482 | 482 | 3   | 1   |  8  | \n",
       "|  2  |  59 | 429 | 262 | 2   | 1   | 10  | \n",
       "|  3  |  71 |  84 | 604 | 4   | 1   | 11  | \n",
       "|  4  | 117 | 245 | 837 | 5   | 2   | 13  | \n",
       "|  5  |  99 | 134 | 819 | 7   | 3   |  9  | \n",
       "|  6  | 127 | 461 | 939 | 7   | 3   | 14  | \n",
       "|  7  |  38 | 323 | 158 | 1   | 0   |  6  | \n",
       "|  8  |  79 | 351 | 497 | 3   | 1   |  9  | \n",
       "|  9  | 104 | 298 | 796 | 6   | 2   | 14  | \n",
       "| 10  |  47 | 253 | 305 | 3   | 1   |  7  | \n",
       "| 11  |  61 | 335 | 394 | 3   | 1   |  8  | \n",
       "| 12  |  38 | 329 | 169 | 1   | 0   |  7  | \n",
       "| 13  |  39 | 396 | 134 | 1   | 0   |  5  | \n",
       "| 14  |  61 | 261 | 330 | 2   | 1   |  6  | \n",
       "| 15  |  61 | 474 | 375 | 2   | 1   |  9  | \n",
       "| 16  | 121 | 349 | 873 | 5   | 2   | 12  | \n",
       "| 17  |  76 | 549 | 422 | 3   | 1   |  8  | \n",
       "| 18  |  67 | 286 | 459 | 3   | 1   | 10  | \n",
       "\n",
       "\n"
      ],
      "text/plain": [
       "   Region Sales Mktg Outlets Popn Vehicles Reps\n",
       "1   1      78   482  482     3    1         8  \n",
       "2   2      59   429  262     2    1        10  \n",
       "3   3      71    84  604     4    1        11  \n",
       "4   4     117   245  837     5    2        13  \n",
       "5   5      99   134  819     7    3         9  \n",
       "6   6     127   461  939     7    3        14  \n",
       "7   7      38   323  158     1    0         6  \n",
       "8   8      79   351  497     3    1         9  \n",
       "9   9     104   298  796     6    2        14  \n",
       "10 10      47   253  305     3    1         7  \n",
       "11 11      61   335  394     3    1         8  \n",
       "12 12      38   329  169     1    0         7  \n",
       "13 13      39   396  134     1    0         5  \n",
       "14 14      61   261  330     2    1         6  \n",
       "15 15      61   474  375     2    1         9  \n",
       "16 16     121   349  873     5    2        12  \n",
       "17 17      76   549  422     3    1         8  \n",
       "18 18      67   286  459     3    1        10  "
      ]
     },
     "metadata": {},
     "output_type": "display_data"
    }
   ],
   "source": [
    "dt <- read.csv(choose.files())\n",
    "dt"
   ]
  },
  {
   "cell_type": "code",
   "execution_count": 6,
   "metadata": {},
   "outputs": [
    {
     "data": {
      "image/png": "[encoded data removed]",
      "text/plain": [
       "Plot with title \"Histogram of dt$Sales\""
      ]
     },
     "metadata": {},
     "output_type": "display_data"
    }
   ],
   "source": [
    "hist(dt$Sales)"
   ]
  },
  {
   "cell_type": "code",
   "execution_count": 8,
   "metadata": {},
   "outputs": [
    {
     "data": {
      "image/png": "[encoded data removed]",
      "text/plain": [
       "plot without title"
      ]
     },
     "metadata": {},
     "output_type": "display_data"
    }
   ],
   "source": [
    "plot(dt, col = 'red')"
   ]
  },
  {
   "cell_type": "code",
   "execution_count": 13,
   "metadata": {},
   "outputs": [
    {
     "data": {
      "text/html": [
       "-0.0347425587787271"
      ],
      "text/latex": [
       "-0.0347425587787271"
      ],
      "text/markdown": [
       "-0.0347425587787271"
      ],
      "text/plain": [
       "[1] -0.03474256"
      ]
     },
     "metadata": {},
     "output_type": "display_data"
    },
    {
     "data": {
      "image/png": "[encoded data removed]",
      "text/plain": [
       "plot without title"
      ]
     },
     "metadata": {},
     "output_type": "display_data"
    }
   ],
   "source": [
    "Marketing <- dt$Mktg*1000\n",
    "Sales <- dt$Sales*1000\n",
    "\n",
    "scatter.smooth(Marketing, Sales)\n",
    "cor(Marketing, Sales)"
   ]
  },
  {
   "cell_type": "code",
   "execution_count": 15,
   "metadata": {},
   "outputs": [
    {
     "data": {
      "text/html": [
       "<dl>\n",
       "\t<dt>$stats</dt>\n",
       "\t\t<dd><ol class=list-inline>\n",
       "\t<li>84000</li>\n",
       "\t<li>261000</li>\n",
       "\t<li>332000</li>\n",
       "\t<li>429000</li>\n",
       "\t<li>549000</li>\n",
       "</ol>\n",
       "</dd>\n",
       "\t<dt>$n</dt>\n",
       "\t\t<dd>18</dd>\n",
       "\t<dt>$conf</dt>\n",
       "\t\t<dd><ol class=list-inline>\n",
       "\t<li>269435.192000614</li>\n",
       "\t<li>394564.807999386</li>\n",
       "</ol>\n",
       "</dd>\n",
       "\t<dt>$out</dt>\n",
       "\t\t<dd></dd>\n",
       "</dl>\n"
      ],
      "text/latex": [
       "\\begin{description}\n",
       "\\item[\\$stats] \\begin{enumerate*}\n",
       "\\item 84000\n",
       "\\item 261000\n",
       "\\item 332000\n",
       "\\item 429000\n",
       "\\item 549000\n",
       "\\end{enumerate*}\n",
       "\n",
       "\\item[\\$n] 18\n",
       "\\item[\\$conf] \\begin{enumerate*}\n",
       "\\item 269435.192000614\n",
       "\\item 394564.807999386\n",
       "\\end{enumerate*}\n",
       "\n",
       "\\item[\\$out] \n",
       "\\end{description}\n"
      ],
      "text/markdown": [
       "$stats\n",
       ":   1. 84000\n",
       "2. 261000\n",
       "3. 332000\n",
       "4. 429000\n",
       "5. 549000\n",
       "\n",
       "\n",
       "\n",
       "$n\n",
       ":   18\n",
       "$conf\n",
       ":   1. 269435.192000614\n",
       "2. 394564.807999386\n",
       "\n",
       "\n",
       "\n",
       "$out\n",
       ":   \n",
       "\n",
       "\n"
      ],
      "text/plain": [
       "$stats\n",
       "[1]  84000 261000 332000 429000 549000\n",
       "\n",
       "$n\n",
       "[1] 18\n",
       "\n",
       "$conf\n",
       "[1] 269435.2 394564.8\n",
       "\n",
       "$out\n",
       "numeric(0)\n"
      ]
     },
     "metadata": {},
     "output_type": "display_data"
    }
   ],
   "source": [
    "boxplot.stats(Marketing)"
   ]
  },
  {
   "cell_type": "code",
   "execution_count": 16,
   "metadata": {},
   "outputs": [
    {
     "data": {
      "text/html": [
       "<dl>\n",
       "\t<dt>$stats</dt>\n",
       "\t\t<dd><ol class=list-inline>\n",
       "\t<li>38000</li>\n",
       "\t<li>59000</li>\n",
       "\t<li>69000</li>\n",
       "\t<li>99000</li>\n",
       "\t<li>127000</li>\n",
       "</ol>\n",
       "</dd>\n",
       "\t<dt>$n</dt>\n",
       "\t\t<dd>18</dd>\n",
       "\t<dt>$conf</dt>\n",
       "\t\t<dd><ol class=list-inline>\n",
       "\t<li>54103.6171430034</li>\n",
       "\t<li>83896.3828569966</li>\n",
       "</ol>\n",
       "</dd>\n",
       "\t<dt>$out</dt>\n",
       "\t\t<dd></dd>\n",
       "</dl>\n"
      ],
      "text/latex": [
       "\\begin{description}\n",
       "\\item[\\$stats] \\begin{enumerate*}\n",
       "\\item 38000\n",
       "\\item 59000\n",
       "\\item 69000\n",
       "\\item 99000\n",
       "\\item 127000\n",
       "\\end{enumerate*}\n",
       "\n",
       "\\item[\\$n] 18\n",
       "\\item[\\$conf] \\begin{enumerate*}\n",
       "\\item 54103.6171430034\n",
       "\\item 83896.3828569966\n",
       "\\end{enumerate*}\n",
       "\n",
       "\\item[\\$out] \n",
       "\\end{description}\n"
      ],
      "text/markdown": [
       "$stats\n",
       ":   1. 38000\n",
       "2. 59000\n",
       "3. 69000\n",
       "4. 99000\n",
       "5. 127000\n",
       "\n",
       "\n",
       "\n",
       "$n\n",
       ":   18\n",
       "$conf\n",
       ":   1. 54103.6171430034\n",
       "2. 83896.3828569966\n",
       "\n",
       "\n",
       "\n",
       "$out\n",
       ":   \n",
       "\n",
       "\n"
      ],
      "text/plain": [
       "$stats\n",
       "[1]  38000  59000  69000  99000 127000\n",
       "\n",
       "$n\n",
       "[1] 18\n",
       "\n",
       "$conf\n",
       "[1] 54103.62 83896.38\n",
       "\n",
       "$out\n",
       "numeric(0)\n"
      ]
     },
     "metadata": {},
     "output_type": "display_data"
    }
   ],
   "source": [
    "boxplot.stats(Sales)"
   ]
  },
  {
   "cell_type": "markdown",
   "metadata": {},
   "source": [
    "# Part 1\n",
    "We would like to investigate the impact of marketing efforts on sales. To that end, run a regression model with “Sales” as the response variable and “Mktg” as the (only) explanatory variable. Copy and paste the R code and the output, and writethree key findings that you can infer from this analysis."
   ]
  },
  {
   "cell_type": "code",
   "execution_count": 17,
   "metadata": {},
   "outputs": [
    {
     "data": {
      "text/plain": [
       "\n",
       "Call:\n",
       "lm(formula = Sales ~ Marketing)\n",
       "\n",
       "Residuals:\n",
       "   Min     1Q Median     3Q    Max \n",
       "-36714 -14685  -6855  18193  53426 \n",
       "\n",
       "Coefficients:\n",
       "              Estimate Std. Error t value Pr(>|t|)   \n",
       "(Intercept)  7.738e+04  2.110e+04   3.667  0.00208 **\n",
       "Marketing   -8.265e-03  5.944e-02  -0.139  0.89114   \n",
       "---\n",
       "Signif. codes:  0 '***' 0.001 '**' 0.01 '*' 0.05 '.' 0.1 ' ' 1\n",
       "\n",
       "Residual standard error: 29310 on 16 degrees of freedom\n",
       "Multiple R-squared:  0.001207,\tAdjusted R-squared:  -0.06122 \n",
       "F-statistic: 0.01934 on 1 and 16 DF,  p-value: 0.8911\n"
      ]
     },
     "metadata": {},
     "output_type": "display_data"
    }
   ],
   "source": [
    "ln_mk_sl <- lm(Sales~Marketing)\n",
    "summary(ln_mk_sl)"
   ]
  },
  {
   "cell_type": "markdown",
   "metadata": {},
   "source": [
    "# Observations:\n",
    "1. The p value is significantly high. Thus we reject the null hypothesis.\n",
    "2. Adjusted R-squared is negative.\n",
    "3. The positive intercept indicated that even if the sales were 0, the sales are gonna be positive.\n"
   ]
  },
  {
   "cell_type": "markdown",
   "metadata": {},
   "source": [
    "# Part 2\n",
    "Now, we would like to investigate the impact of all variables. To that end, run a regression model with “Sales” as the response variable and all other variables in the data set as predictor variables. Copy and paste the R code and the output, and writethree key findings that you can infer from this analysis. Does anything in this output strike you as “strange”?"
   ]
  },
  {
   "cell_type": "code",
   "execution_count": 18,
   "metadata": {},
   "outputs": [
    {
     "data": {
      "text/plain": [
       "\n",
       "Call:\n",
       "lm(formula = Sales ~ Mktg + Region + Outlets + Popn + Vehicles + \n",
       "    Reps, data = dt)\n",
       "\n",
       "Residuals:\n",
       "    Min      1Q  Median      3Q     Max \n",
       "-9.6819 -1.2894  0.2493  2.5316  4.3800 \n",
       "\n",
       "Coefficients:\n",
       "            Estimate Std. Error t value Pr(>|t|)    \n",
       "(Intercept) 12.29971    6.09802   2.017  0.06877 .  \n",
       "Mktg         0.03732    0.01002   3.723  0.00336 ** \n",
       "Region      -0.14240    0.21094  -0.675  0.51358    \n",
       "Outlets      0.13417    0.01658   8.094 5.84e-06 ***\n",
       "Popn        -6.32892    2.76251  -2.291  0.04270 *  \n",
       "Vehicles     6.51666    4.58553   1.421  0.18300    \n",
       "Reps        -0.14921    0.80056  -0.186  0.85554    \n",
       "---\n",
       "Signif. codes:  0 '***' 0.001 '**' 0.01 '*' 0.05 '.' 0.1 ' ' 1\n",
       "\n",
       "Residual standard error: 4.277 on 11 degrees of freedom\n",
       "Multiple R-squared:  0.9854,\tAdjusted R-squared:  0.9774 \n",
       "F-statistic: 123.6 on 6 and 11 DF,  p-value: 1.918e-09\n"
      ]
     },
     "metadata": {},
     "output_type": "display_data"
    }
   ],
   "source": [
    "lm_allvariables <- lm(Sales~Mktg+Region+Outlets+Popn+Vehicles+Reps, data = dt)\n",
    "summary(lm_allvariables)"
   ]
  },
  {
   "cell_type": "markdown",
   "metadata": {},
   "source": [
    "# Observations:\n",
    "\n",
    "1. The residual standard error reduces drastically as compared to the previous model. \n",
    "2. The adjusted R squared is higher.\n",
    "3. The p value is small enough to reject the null hypothesis.\n",
    "\n",
    "The positive intercept indicates that the values for sales will still be 12.29971 even if all the other attributes are brought down to 0. This looks 'Strange'."
   ]
  },
  {
   "cell_type": "markdown",
   "metadata": {},
   "source": [
    "# Part 3 \n",
    "Create a table listing the multiple R-squared, adjusted R-squared, AIC, and BIC of the two models above. Which is the better model and why?"
   ]
  },
  {
   "cell_type": "code",
   "execution_count": 19,
   "metadata": {},
   "outputs": [
    {
     "data": {
      "text/html": [
       "425.252135999677"
      ],
      "text/latex": [
       "425.252135999677"
      ],
      "text/markdown": [
       "425.252135999677"
      ],
      "text/plain": [
       "[1] 425.2521"
      ]
     },
     "metadata": {},
     "output_type": "display_data"
    }
   ],
   "source": [
    "AIC(ln_mk_sl)"
   ]
  },
  {
   "cell_type": "code",
   "execution_count": 20,
   "metadata": {},
   "outputs": [
    {
     "data": {
      "text/html": [
       "427.923251273365"
      ],
      "text/latex": [
       "427.923251273365"
      ],
      "text/markdown": [
       "427.923251273365"
      ],
      "text/plain": [
       "[1] 427.9233"
      ]
     },
     "metadata": {},
     "output_type": "display_data"
    }
   ],
   "source": [
    "BIC(ln_mk_sl)"
   ]
  },
  {
   "cell_type": "code",
   "execution_count": 21,
   "metadata": {},
   "outputs": [
    {
     "data": {
      "text/html": [
       "110.534273759803"
      ],
      "text/latex": [
       "110.534273759803"
      ],
      "text/markdown": [
       "110.534273759803"
      ],
      "text/plain": [
       "[1] 110.5343"
      ]
     },
     "metadata": {},
     "output_type": "display_data"
    }
   ],
   "source": [
    "AIC(lm_allvariables)"
   ]
  },
  {
   "cell_type": "code",
   "execution_count": 22,
   "metadata": {},
   "outputs": [
    {
     "data": {
      "text/html": [
       "117.657247822972"
      ],
      "text/latex": [
       "117.657247822972"
      ],
      "text/markdown": [
       "117.657247822972"
      ],
      "text/plain": [
       "[1] 117.6572"
      ]
     },
     "metadata": {},
     "output_type": "display_data"
    }
   ],
   "source": [
    "BIC(lm_allvariables)"
   ]
  },
  {
   "cell_type": "markdown",
   "metadata": {},
   "source": [
    "# Comparison Table\n",
    "\n",
    "                          Only Marketing                      All variables\n",
    "Multiple R-squared         0.001207                            0.9854\n",
    "Adjusted R-squared        -0.06122                             0.9774\n",
    "AIC                        425.252135999677                    110.534273759803\n",
    "BIC                        427.923251273365                    117.657247822972 "
   ]
  },
  {
   "cell_type": "markdown",
   "metadata": {},
   "source": [
    "![image](C:\\Users\\nikhi\\OneDrive\\Documents\\Statistical-Data-Mining\\A4.PNG)"
   ]
  },
  {
   "cell_type": "markdown",
   "metadata": {},
   "source": [
    "# Comparison\n",
    "Looking at the above table contents, It is safe to say that the linear regression model for all variables looks a better fit to the data. It also is better fit to estimate correct prediction."
   ]
  }
 ],
 "metadata": {
  "kernelspec": {
   "display_name": "R",
   "language": "R",
   "name": "ir"
  },
  "language_info": {
   "codemirror_mode": "r",
   "file_extension": ".r",
   "mimetype": "text/x-r-source",
   "name": "R",
   "pygments_lexer": "r",
   "version": "3.4.3"
  }
 },
 "nbformat": 4,
 "nbformat_minor": 2
}
