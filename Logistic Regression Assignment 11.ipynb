{
 "cells": [
  {
   "cell_type": "code",
   "execution_count": 1,
   "metadata": {},
   "outputs": [],
   "source": [
    "data_train<-read.csv(choose.files())"
   ]
  },
  {
   "cell_type": "code",
   "execution_count": 2,
   "metadata": {},
   "outputs": [
    {
     "data": {
      "text/html": [
       "<table>\n",
       "<thead><tr><th scope=col>free</th><th scope=col>credit</th><th scope=col>money</th><th scope=col>lab</th><th scope=col>meeting</th><th scope=col>conference</th><th scope=col>Spam</th></tr></thead>\n",
       "<tbody>\n",
       "\t<tr><td>0.00</td><td>0   </td><td>0   </td><td>0   </td><td>0   </td><td>0.00</td><td>0   </td></tr>\n",
       "\t<tr><td>1.23</td><td>0   </td><td>0   </td><td>0   </td><td>0   </td><td>0.00</td><td>1   </td></tr>\n",
       "\t<tr><td>0.00</td><td>0   </td><td>0   </td><td>0   </td><td>0   </td><td>0.00</td><td>0   </td></tr>\n",
       "\t<tr><td>0.00</td><td>0   </td><td>0   </td><td>0   </td><td>0   </td><td>0.00</td><td>1   </td></tr>\n",
       "\t<tr><td>0.00</td><td>0   </td><td>0   </td><td>0   </td><td>0   </td><td>0.77</td><td>0   </td></tr>\n",
       "</tbody>\n",
       "</table>\n"
      ],
      "text/latex": [
       "\\begin{tabular}{r|lllllll}\n",
       " free & credit & money & lab & meeting & conference & Spam\\\\\n",
       "\\hline\n",
       "\t 0.00 & 0    & 0    & 0    & 0    & 0.00 & 0   \\\\\n",
       "\t 1.23 & 0    & 0    & 0    & 0    & 0.00 & 1   \\\\\n",
       "\t 0.00 & 0    & 0    & 0    & 0    & 0.00 & 0   \\\\\n",
       "\t 0.00 & 0    & 0    & 0    & 0    & 0.00 & 1   \\\\\n",
       "\t 0.00 & 0    & 0    & 0    & 0    & 0.77 & 0   \\\\\n",
       "\\end{tabular}\n"
      ],
      "text/markdown": [
       "\n",
       "free | credit | money | lab | meeting | conference | Spam | \n",
       "|---|---|---|---|---|\n",
       "| 0.00 | 0    | 0    | 0    | 0    | 0.00 | 0    | \n",
       "| 1.23 | 0    | 0    | 0    | 0    | 0.00 | 1    | \n",
       "| 0.00 | 0    | 0    | 0    | 0    | 0.00 | 0    | \n",
       "| 0.00 | 0    | 0    | 0    | 0    | 0.00 | 1    | \n",
       "| 0.00 | 0    | 0    | 0    | 0    | 0.77 | 0    | \n",
       "\n",
       "\n"
      ],
      "text/plain": [
       "  free credit money lab meeting conference Spam\n",
       "1 0.00 0      0     0   0       0.00       0   \n",
       "2 1.23 0      0     0   0       0.00       1   \n",
       "3 0.00 0      0     0   0       0.00       0   \n",
       "4 0.00 0      0     0   0       0.00       1   \n",
       "5 0.00 0      0     0   0       0.77       0   "
      ]
     },
     "metadata": {},
     "output_type": "display_data"
    }
   ],
   "source": [
    "data_train[1:5,]"
   ]
  },
  {
   "cell_type": "code",
   "execution_count": 4,
   "metadata": {},
   "outputs": [
    {
     "name": "stderr",
     "output_type": "stream",
     "text": [
      "The following objects are masked from data_train (pos = 3):\n",
      "\n",
      "    conference, credit, free, lab, meeting, money, Spam\n",
      "\n",
      "Warning message:\n",
      "\"glm.fit: fitted probabilities numerically 0 or 1 occurred\""
     ]
    }
   ],
   "source": [
    "attach(data_train)\n",
    "model1<-glm(Spam~free+credit+money+lab+meeting+conference, family = binomial)"
   ]
  },
  {
   "cell_type": "code",
   "execution_count": 5,
   "metadata": {},
   "outputs": [
    {
     "data": {
      "text/plain": [
       "\n",
       "Call:\n",
       "glm(formula = Spam ~ free + credit + money + lab + meeting + \n",
       "    conference, family = binomial)\n",
       "\n",
       "Deviance Residuals: \n",
       "    Min       1Q   Median       3Q      Max  \n",
       "-6.5139  -0.8196  -0.1856   0.6396   2.5178  \n",
       "\n",
       "Coefficients:\n",
       "            Estimate Std. Error z value Pr(>|z|)    \n",
       "(Intercept)  -0.9185     0.0919  -9.994  < 2e-16 ***\n",
       "free          1.1067     0.1781   6.213 5.20e-10 ***\n",
       "credit        7.7522     1.9152   4.048 5.17e-05 ***\n",
       "money         7.1476     1.1158   6.406 1.50e-10 ***\n",
       "lab          -5.8049     2.4464  -2.373   0.0177 *  \n",
       "meeting      -6.1952     2.9551  -2.096   0.0360 *  \n",
       "conference   -4.6155     2.8880  -1.598   0.1100    \n",
       "---\n",
       "Signif. codes:  0 '***' 0.001 '**' 0.01 '*' 0.05 '.' 0.1 ' ' 1\n",
       "\n",
       "(Dispersion parameter for binomial family taken to be 1)\n",
       "\n",
       "    Null deviance: 1348.42  on 999  degrees of freedom\n",
       "Residual deviance:  913.29  on 993  degrees of freedom\n",
       "AIC: 927.29\n",
       "\n",
       "Number of Fisher Scoring iterations: 10\n"
      ]
     },
     "metadata": {},
     "output_type": "display_data"
    }
   ],
   "source": [
    "summary(model1)"
   ]
  },
  {
   "cell_type": "markdown",
   "metadata": {},
   "source": [
    "Meeting turns out be significant, but it is negatively correlated with spam. So, the word meeting is more of a genuine email.\n",
    "The co-efficient of money is 7.1476. If the email contains the word money, the odds of spam are exp(7.1476)=1271 times higher.\n",
    "-0.9185 – 6.1952 + 14.2952 = 7.1815 where p is the probability (Probability = 1/[1+exp(-7.1815)]) = 0.99924"
   ]
  },
  {
   "cell_type": "code",
   "execution_count": 7,
   "metadata": {},
   "outputs": [
    {
     "data": {
      "text/html": [
       "<table>\n",
       "<thead><tr><th></th><th scope=col>0</th><th scope=col>1</th><th scope=col>Sum</th></tr></thead>\n",
       "<tbody>\n",
       "\t<tr><th scope=row>0</th><td>298</td><td> 13</td><td>311</td></tr>\n",
       "\t<tr><th scope=row>1</th><td> 69</td><td>120</td><td>189</td></tr>\n",
       "\t<tr><th scope=row>Sum</th><td>367</td><td>133</td><td>500</td></tr>\n",
       "</tbody>\n",
       "</table>\n"
      ],
      "text/latex": [
       "\\begin{tabular}{r|lll}\n",
       "  & 0 & 1 & Sum\\\\\n",
       "\\hline\n",
       "\t0 & 298 &  13 & 311\\\\\n",
       "\t1 &  69 & 120 & 189\\\\\n",
       "\tSum & 367 & 133 & 500\\\\\n",
       "\\end{tabular}\n"
      ],
      "text/markdown": [
       "\n",
       "| <!--/--> | 0 | 1 | Sum | \n",
       "|---|---|---|\n",
       "| 0 | 298 |  13 | 311 | \n",
       "| 1 |  69 | 120 | 189 | \n",
       "| Sum | 367 | 133 | 500 | \n",
       "\n",
       "\n"
      ],
      "text/plain": [
       "      predicted\n",
       "actual 0   1   Sum\n",
       "   0   298  13 311\n",
       "   1    69 120 189\n",
       "   Sum 367 133 500"
      ]
     },
     "metadata": {},
     "output_type": "display_data"
    }
   ],
   "source": [
    "data1<-read.csv(choose.files())\n",
    "predicted<-predict(model1, data1, type = 'response')\n",
    "threshold<-0.5\n",
    "predf<-cut(predicted, breaks = c(-Inf, threshold, +Inf), labels = c(\"0\",\"1\"))\n",
    "ctab<-table(data1$Spam, predf, dnn = c(\"actual\",\"predicted\"))\n",
    "addmargins(ctab)"
   ]
  },
  {
   "cell_type": "markdown",
   "metadata": {},
   "source": [
    "Accuracy = (298+120)/500 = 83.6%\n",
    "Error = 1-Accuracy = 16.4%\n",
    "As the error rate is high, model is not good."
   ]
  }
 ],
 "metadata": {
  "kernelspec": {
   "display_name": "R",
   "language": "R",
   "name": "ir"
  },
  "language_info": {
   "codemirror_mode": "r",
   "file_extension": ".r",
   "mimetype": "text/x-r-source",
   "name": "R",
   "pygments_lexer": "r",
   "version": "3.4.3"
  }
 },
 "nbformat": 4,
 "nbformat_minor": 2
}
