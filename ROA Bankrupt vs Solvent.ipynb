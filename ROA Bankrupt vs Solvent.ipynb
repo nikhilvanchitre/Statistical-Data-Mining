{
 "cells": [
  {
   "cell_type": "markdown",
   "metadata": {},
   "source": [
    "# 1.\tConstruct a 95% confidence interval for the average ROA. Based on this confidence interval, what is the maximum ROA that a firm can expect with 95% confidence. Write the R code that you used to arrive at this answer."
   ]
  },
  {
   "cell_type": "code",
   "execution_count": 11,
   "metadata": {},
   "outputs": [
    {
     "data": {
      "text/html": [
       "<table>\n",
       "<thead><tr><th scope=col>CASH_DEBT</th><th scope=col>ROA</th><th scope=col>CURRENT</th><th scope=col>ASSET_SALES</th><th scope=col>Status</th></tr></thead>\n",
       "<tbody>\n",
       "\t<tr><td> 0.58   </td><td> 0.04   </td><td>5.06    </td><td>0.13    </td><td>Solvent </td></tr>\n",
       "\t<tr><td> 0.17   </td><td> 0.04   </td><td>2.45    </td><td>0.14    </td><td>Solvent </td></tr>\n",
       "\t<tr><td>-0.56   </td><td>-0.31   </td><td>1.51    </td><td>0.16    </td><td>Bankrupt</td></tr>\n",
       "\t<tr><td> 0.12   </td><td> 0.11   </td><td>1.14    </td><td>0.17    </td><td>Bankrupt</td></tr>\n",
       "\t<tr><td>-0.23   </td><td>-0.30   </td><td>0.33    </td><td>0.18    </td><td>Bankrupt</td></tr>\n",
       "\t<tr><td> 0.48   </td><td> 0.09   </td><td>1.24    </td><td>0.18    </td><td>Solvent </td></tr>\n",
       "\t<tr><td> 0.16   </td><td> 0.05   </td><td>2.31    </td><td>0.20    </td><td>Solvent </td></tr>\n",
       "\t<tr><td> 0.07   </td><td> 0.02   </td><td>1.31    </td><td>0.25    </td><td>Bankrupt</td></tr>\n",
       "\t<tr><td>-0.07   </td><td>-0.09   </td><td>1.45    </td><td>0.26    </td><td>Bankrupt</td></tr>\n",
       "\t<tr><td> 0.14   </td><td>-0.03   </td><td>0.46    </td><td>0.26    </td><td>Solvent </td></tr>\n",
       "\t<tr><td> 0.15   </td><td> 0.05   </td><td>1.88    </td><td>0.27    </td><td>Bankrupt</td></tr>\n",
       "\t<tr><td>-0.14   </td><td>-0.07   </td><td>0.71    </td><td>0.28    </td><td>Bankrupt</td></tr>\n",
       "\t<tr><td> 0.20   </td><td> 0.08   </td><td>1.99    </td><td>0.30    </td><td>Solvent </td></tr>\n",
       "\t<tr><td> 0.19   </td><td> 0.05   </td><td>2.25    </td><td>0.33    </td><td>Solvent </td></tr>\n",
       "\t<tr><td> 0.07   </td><td>-0.01   </td><td>1.37    </td><td>0.34    </td><td>Bankrupt</td></tr>\n",
       "\t<tr><td> 0.38   </td><td> 0.11   </td><td>3.27    </td><td>0.35    </td><td>Solvent </td></tr>\n",
       "\t<tr><td>-0.02   </td><td> 0.02   </td><td>2.05    </td><td>0.35    </td><td>Solvent </td></tr>\n",
       "\t<tr><td> 0.37   </td><td> 0.11   </td><td>1.99    </td><td>0.38    </td><td>Bankrupt</td></tr>\n",
       "\t<tr><td> 0.29   </td><td> 0.06   </td><td>1.84    </td><td>0.38    </td><td>Solvent </td></tr>\n",
       "\t<tr><td> 0.06   </td><td> 0.02   </td><td>1.01    </td><td>0.40    </td><td>Bankrupt</td></tr>\n",
       "\t<tr><td>-0.07   </td><td>-0.06   </td><td>1.37    </td><td>0.40    </td><td>Bankrupt</td></tr>\n",
       "\t<tr><td> 0.22   </td><td> 0.08   </td><td>2.35    </td><td>0.40    </td><td>Solvent </td></tr>\n",
       "\t<tr><td>-0.08   </td><td>-0.08   </td><td>1.51    </td><td>0.42    </td><td>Bankrupt</td></tr>\n",
       "\t<tr><td>-0.14   </td><td>-0.14   </td><td>1.42    </td><td>0.43    </td><td>Bankrupt</td></tr>\n",
       "\t<tr><td> 0.56   </td><td> 0.11   </td><td>4.29    </td><td>0.44    </td><td>Solvent </td></tr>\n",
       "\t<tr><td>-0.45   </td><td>-0.41   </td><td>1.09    </td><td>0.45    </td><td>Bankrupt</td></tr>\n",
       "\t<tr><td> 0.47   </td><td> 0.14   </td><td>2.92    </td><td>0.45    </td><td>Solvent </td></tr>\n",
       "\t<tr><td>-0.33   </td><td>-0.09   </td><td>3.01    </td><td>0.47    </td><td>Solvent </td></tr>\n",
       "\t<tr><td> 0.54   </td><td> 0.11   </td><td>2.33    </td><td>0.48    </td><td>Solvent </td></tr>\n",
       "\t<tr><td>-0.28   </td><td>-0.27   </td><td>1.27    </td><td>0.51    </td><td>Bankrupt</td></tr>\n",
       "\t<tr><td> 0.17   </td><td> 0.07   </td><td>1.80    </td><td>0.52    </td><td>Solvent </td></tr>\n",
       "\t<tr><td> 0.14   </td><td> 0.07   </td><td>2.61    </td><td>0.52    </td><td>Solvent </td></tr>\n",
       "\t<tr><td> 0.08   </td><td> 0.02   </td><td>2.01    </td><td>0.53    </td><td>Solvent </td></tr>\n",
       "\t<tr><td> 0.51   </td><td> 0.10   </td><td>2.49    </td><td>0.54    </td><td>Solvent </td></tr>\n",
       "\t<tr><td> 0.15   </td><td> 0.05   </td><td>2.17    </td><td>0.55    </td><td>Solvent </td></tr>\n",
       "\t<tr><td> 0.15   </td><td> 0.06   </td><td>2.23    </td><td>0.56    </td><td>Solvent </td></tr>\n",
       "\t<tr><td>-0.10   </td><td>-0.01   </td><td>2.50    </td><td>0.58    </td><td>Solvent </td></tr>\n",
       "\t<tr><td> 0.01   </td><td> 0.00   </td><td>1.26    </td><td>0.60    </td><td>Bankrupt</td></tr>\n",
       "\t<tr><td> 0.32   </td><td> 0.07   </td><td>4.24    </td><td>0.63    </td><td>Solvent </td></tr>\n",
       "\t<tr><td>-0.28   </td><td>-0.23   </td><td>1.19    </td><td>0.66    </td><td>Bankrupt</td></tr>\n",
       "\t<tr><td>-0.10   </td><td>-0.09   </td><td>1.56    </td><td>0.67    </td><td>Bankrupt</td></tr>\n",
       "\t<tr><td> 0.31   </td><td> 0.05   </td><td>4.45    </td><td>0.69    </td><td>Solvent </td></tr>\n",
       "\t<tr><td> 0.12   </td><td> 0.05   </td><td>2.52    </td><td>0.69    </td><td>Solvent </td></tr>\n",
       "\t<tr><td> 0.01   </td><td> 0.00   </td><td>2.15    </td><td>0.70    </td><td>Bankrupt</td></tr>\n",
       "\t<tr><td> 0.04   </td><td> 0.01   </td><td>1.50    </td><td>0.71    </td><td>Bankrupt</td></tr>\n",
       "\t<tr><td> 0.05   </td><td> 0.03   </td><td>1.68    </td><td>0.95    </td><td>Bankrupt</td></tr>\n",
       "</tbody>\n",
       "</table>\n"
      ],
      "text/latex": [
       "\\begin{tabular}{r|lllll}\n",
       " CASH\\_DEBT & ROA & CURRENT & ASSET\\_SALES & Status\\\\\n",
       "\\hline\n",
       "\t  0.58    &  0.04    & 5.06     & 0.13     & Solvent \\\\\n",
       "\t  0.17    &  0.04    & 2.45     & 0.14     & Solvent \\\\\n",
       "\t -0.56    & -0.31    & 1.51     & 0.16     & Bankrupt\\\\\n",
       "\t  0.12    &  0.11    & 1.14     & 0.17     & Bankrupt\\\\\n",
       "\t -0.23    & -0.30    & 0.33     & 0.18     & Bankrupt\\\\\n",
       "\t  0.48    &  0.09    & 1.24     & 0.18     & Solvent \\\\\n",
       "\t  0.16    &  0.05    & 2.31     & 0.20     & Solvent \\\\\n",
       "\t  0.07    &  0.02    & 1.31     & 0.25     & Bankrupt\\\\\n",
       "\t -0.07    & -0.09    & 1.45     & 0.26     & Bankrupt\\\\\n",
       "\t  0.14    & -0.03    & 0.46     & 0.26     & Solvent \\\\\n",
       "\t  0.15    &  0.05    & 1.88     & 0.27     & Bankrupt\\\\\n",
       "\t -0.14    & -0.07    & 0.71     & 0.28     & Bankrupt\\\\\n",
       "\t  0.20    &  0.08    & 1.99     & 0.30     & Solvent \\\\\n",
       "\t  0.19    &  0.05    & 2.25     & 0.33     & Solvent \\\\\n",
       "\t  0.07    & -0.01    & 1.37     & 0.34     & Bankrupt\\\\\n",
       "\t  0.38    &  0.11    & 3.27     & 0.35     & Solvent \\\\\n",
       "\t -0.02    &  0.02    & 2.05     & 0.35     & Solvent \\\\\n",
       "\t  0.37    &  0.11    & 1.99     & 0.38     & Bankrupt\\\\\n",
       "\t  0.29    &  0.06    & 1.84     & 0.38     & Solvent \\\\\n",
       "\t  0.06    &  0.02    & 1.01     & 0.40     & Bankrupt\\\\\n",
       "\t -0.07    & -0.06    & 1.37     & 0.40     & Bankrupt\\\\\n",
       "\t  0.22    &  0.08    & 2.35     & 0.40     & Solvent \\\\\n",
       "\t -0.08    & -0.08    & 1.51     & 0.42     & Bankrupt\\\\\n",
       "\t -0.14    & -0.14    & 1.42     & 0.43     & Bankrupt\\\\\n",
       "\t  0.56    &  0.11    & 4.29     & 0.44     & Solvent \\\\\n",
       "\t -0.45    & -0.41    & 1.09     & 0.45     & Bankrupt\\\\\n",
       "\t  0.47    &  0.14    & 2.92     & 0.45     & Solvent \\\\\n",
       "\t -0.33    & -0.09    & 3.01     & 0.47     & Solvent \\\\\n",
       "\t  0.54    &  0.11    & 2.33     & 0.48     & Solvent \\\\\n",
       "\t -0.28    & -0.27    & 1.27     & 0.51     & Bankrupt\\\\\n",
       "\t  0.17    &  0.07    & 1.80     & 0.52     & Solvent \\\\\n",
       "\t  0.14    &  0.07    & 2.61     & 0.52     & Solvent \\\\\n",
       "\t  0.08    &  0.02    & 2.01     & 0.53     & Solvent \\\\\n",
       "\t  0.51    &  0.10    & 2.49     & 0.54     & Solvent \\\\\n",
       "\t  0.15    &  0.05    & 2.17     & 0.55     & Solvent \\\\\n",
       "\t  0.15    &  0.06    & 2.23     & 0.56     & Solvent \\\\\n",
       "\t -0.10    & -0.01    & 2.50     & 0.58     & Solvent \\\\\n",
       "\t  0.01    &  0.00    & 1.26     & 0.60     & Bankrupt\\\\\n",
       "\t  0.32    &  0.07    & 4.24     & 0.63     & Solvent \\\\\n",
       "\t -0.28    & -0.23    & 1.19     & 0.66     & Bankrupt\\\\\n",
       "\t -0.10    & -0.09    & 1.56     & 0.67     & Bankrupt\\\\\n",
       "\t  0.31    &  0.05    & 4.45     & 0.69     & Solvent \\\\\n",
       "\t  0.12    &  0.05    & 2.52     & 0.69     & Solvent \\\\\n",
       "\t  0.01    &  0.00    & 2.15     & 0.70     & Bankrupt\\\\\n",
       "\t  0.04    &  0.01    & 1.50     & 0.71     & Bankrupt\\\\\n",
       "\t  0.05    &  0.03    & 1.68     & 0.95     & Bankrupt\\\\\n",
       "\\end{tabular}\n"
      ],
      "text/markdown": [
       "\n",
       "CASH_DEBT | ROA | CURRENT | ASSET_SALES | Status | \n",
       "|---|---|---|---|---|---|---|---|---|---|---|---|---|---|---|---|---|---|---|---|---|---|---|---|---|---|---|---|---|---|---|---|---|---|---|---|---|---|---|---|---|---|---|---|---|---|\n",
       "|  0.58    |  0.04    | 5.06     | 0.13     | Solvent  | \n",
       "|  0.17    |  0.04    | 2.45     | 0.14     | Solvent  | \n",
       "| -0.56    | -0.31    | 1.51     | 0.16     | Bankrupt | \n",
       "|  0.12    |  0.11    | 1.14     | 0.17     | Bankrupt | \n",
       "| -0.23    | -0.30    | 0.33     | 0.18     | Bankrupt | \n",
       "|  0.48    |  0.09    | 1.24     | 0.18     | Solvent  | \n",
       "|  0.16    |  0.05    | 2.31     | 0.20     | Solvent  | \n",
       "|  0.07    |  0.02    | 1.31     | 0.25     | Bankrupt | \n",
       "| -0.07    | -0.09    | 1.45     | 0.26     | Bankrupt | \n",
       "|  0.14    | -0.03    | 0.46     | 0.26     | Solvent  | \n",
       "|  0.15    |  0.05    | 1.88     | 0.27     | Bankrupt | \n",
       "| -0.14    | -0.07    | 0.71     | 0.28     | Bankrupt | \n",
       "|  0.20    |  0.08    | 1.99     | 0.30     | Solvent  | \n",
       "|  0.19    |  0.05    | 2.25     | 0.33     | Solvent  | \n",
       "|  0.07    | -0.01    | 1.37     | 0.34     | Bankrupt | \n",
       "|  0.38    |  0.11    | 3.27     | 0.35     | Solvent  | \n",
       "| -0.02    |  0.02    | 2.05     | 0.35     | Solvent  | \n",
       "|  0.37    |  0.11    | 1.99     | 0.38     | Bankrupt | \n",
       "|  0.29    |  0.06    | 1.84     | 0.38     | Solvent  | \n",
       "|  0.06    |  0.02    | 1.01     | 0.40     | Bankrupt | \n",
       "| -0.07    | -0.06    | 1.37     | 0.40     | Bankrupt | \n",
       "|  0.22    |  0.08    | 2.35     | 0.40     | Solvent  | \n",
       "| -0.08    | -0.08    | 1.51     | 0.42     | Bankrupt | \n",
       "| -0.14    | -0.14    | 1.42     | 0.43     | Bankrupt | \n",
       "|  0.56    |  0.11    | 4.29     | 0.44     | Solvent  | \n",
       "| -0.45    | -0.41    | 1.09     | 0.45     | Bankrupt | \n",
       "|  0.47    |  0.14    | 2.92     | 0.45     | Solvent  | \n",
       "| -0.33    | -0.09    | 3.01     | 0.47     | Solvent  | \n",
       "|  0.54    |  0.11    | 2.33     | 0.48     | Solvent  | \n",
       "| -0.28    | -0.27    | 1.27     | 0.51     | Bankrupt | \n",
       "|  0.17    |  0.07    | 1.80     | 0.52     | Solvent  | \n",
       "|  0.14    |  0.07    | 2.61     | 0.52     | Solvent  | \n",
       "|  0.08    |  0.02    | 2.01     | 0.53     | Solvent  | \n",
       "|  0.51    |  0.10    | 2.49     | 0.54     | Solvent  | \n",
       "|  0.15    |  0.05    | 2.17     | 0.55     | Solvent  | \n",
       "|  0.15    |  0.06    | 2.23     | 0.56     | Solvent  | \n",
       "| -0.10    | -0.01    | 2.50     | 0.58     | Solvent  | \n",
       "|  0.01    |  0.00    | 1.26     | 0.60     | Bankrupt | \n",
       "|  0.32    |  0.07    | 4.24     | 0.63     | Solvent  | \n",
       "| -0.28    | -0.23    | 1.19     | 0.66     | Bankrupt | \n",
       "| -0.10    | -0.09    | 1.56     | 0.67     | Bankrupt | \n",
       "|  0.31    |  0.05    | 4.45     | 0.69     | Solvent  | \n",
       "|  0.12    |  0.05    | 2.52     | 0.69     | Solvent  | \n",
       "|  0.01    |  0.00    | 2.15     | 0.70     | Bankrupt | \n",
       "|  0.04    |  0.01    | 1.50     | 0.71     | Bankrupt | \n",
       "|  0.05    |  0.03    | 1.68     | 0.95     | Bankrupt | \n",
       "\n",
       "\n"
      ],
      "text/plain": [
       "   CASH_DEBT ROA   CURRENT ASSET_SALES Status  \n",
       "1   0.58      0.04 5.06    0.13        Solvent \n",
       "2   0.17      0.04 2.45    0.14        Solvent \n",
       "3  -0.56     -0.31 1.51    0.16        Bankrupt\n",
       "4   0.12      0.11 1.14    0.17        Bankrupt\n",
       "5  -0.23     -0.30 0.33    0.18        Bankrupt\n",
       "6   0.48      0.09 1.24    0.18        Solvent \n",
       "7   0.16      0.05 2.31    0.20        Solvent \n",
       "8   0.07      0.02 1.31    0.25        Bankrupt\n",
       "9  -0.07     -0.09 1.45    0.26        Bankrupt\n",
       "10  0.14     -0.03 0.46    0.26        Solvent \n",
       "11  0.15      0.05 1.88    0.27        Bankrupt\n",
       "12 -0.14     -0.07 0.71    0.28        Bankrupt\n",
       "13  0.20      0.08 1.99    0.30        Solvent \n",
       "14  0.19      0.05 2.25    0.33        Solvent \n",
       "15  0.07     -0.01 1.37    0.34        Bankrupt\n",
       "16  0.38      0.11 3.27    0.35        Solvent \n",
       "17 -0.02      0.02 2.05    0.35        Solvent \n",
       "18  0.37      0.11 1.99    0.38        Bankrupt\n",
       "19  0.29      0.06 1.84    0.38        Solvent \n",
       "20  0.06      0.02 1.01    0.40        Bankrupt\n",
       "21 -0.07     -0.06 1.37    0.40        Bankrupt\n",
       "22  0.22      0.08 2.35    0.40        Solvent \n",
       "23 -0.08     -0.08 1.51    0.42        Bankrupt\n",
       "24 -0.14     -0.14 1.42    0.43        Bankrupt\n",
       "25  0.56      0.11 4.29    0.44        Solvent \n",
       "26 -0.45     -0.41 1.09    0.45        Bankrupt\n",
       "27  0.47      0.14 2.92    0.45        Solvent \n",
       "28 -0.33     -0.09 3.01    0.47        Solvent \n",
       "29  0.54      0.11 2.33    0.48        Solvent \n",
       "30 -0.28     -0.27 1.27    0.51        Bankrupt\n",
       "31  0.17      0.07 1.80    0.52        Solvent \n",
       "32  0.14      0.07 2.61    0.52        Solvent \n",
       "33  0.08      0.02 2.01    0.53        Solvent \n",
       "34  0.51      0.10 2.49    0.54        Solvent \n",
       "35  0.15      0.05 2.17    0.55        Solvent \n",
       "36  0.15      0.06 2.23    0.56        Solvent \n",
       "37 -0.10     -0.01 2.50    0.58        Solvent \n",
       "38  0.01      0.00 1.26    0.60        Bankrupt\n",
       "39  0.32      0.07 4.24    0.63        Solvent \n",
       "40 -0.28     -0.23 1.19    0.66        Bankrupt\n",
       "41 -0.10     -0.09 1.56    0.67        Bankrupt\n",
       "42  0.31      0.05 4.45    0.69        Solvent \n",
       "43  0.12      0.05 2.52    0.69        Solvent \n",
       "44  0.01      0.00 2.15    0.70        Bankrupt\n",
       "45  0.04      0.01 1.50    0.71        Bankrupt\n",
       "46  0.05      0.03 1.68    0.95        Bankrupt"
      ]
     },
     "metadata": {},
     "output_type": "display_data"
    }
   ],
   "source": [
    "data <- read.csv(choose.files())\n",
    "data"
   ]
  },
  {
   "cell_type": "code",
   "execution_count": 3,
   "metadata": {},
   "outputs": [
    {
     "data": {
      "image/png": "[encoded data removed]",
      "text/plain": [
       "Plot with title \"Histogram of data$ROA\""
      ]
     },
     "metadata": {},
     "output_type": "display_data"
    }
   ],
   "source": [
    "hist(data$ROA)"
   ]
  },
  {
   "cell_type": "code",
   "execution_count": 4,
   "metadata": {},
   "outputs": [
    {
     "data": {
      "text/html": [
       "-0.00695652173913043"
      ],
      "text/latex": [
       "-0.00695652173913043"
      ],
      "text/markdown": [
       "-0.00695652173913043"
      ],
      "text/plain": [
       "[1] -0.006956522"
      ]
     },
     "metadata": {},
     "output_type": "display_data"
    }
   ],
   "source": [
    "mean(data$ROA)"
   ]
  },
  {
   "cell_type": "code",
   "execution_count": 5,
   "metadata": {},
   "outputs": [
    {
     "data": {
      "text/plain": [
       "\n",
       "\tOne Sample t-test\n",
       "\n",
       "data:  data$ROA\n",
       "t = -0.38065, df = 45, p-value = 0.7053\n",
       "alternative hypothesis: true mean is not equal to 0\n",
       "95 percent confidence interval:\n",
       " -0.04376544  0.02985240\n",
       "sample estimates:\n",
       "   mean of x \n",
       "-0.006956522 \n"
      ]
     },
     "metadata": {},
     "output_type": "display_data"
    }
   ],
   "source": [
    "t.test(data$ROA)"
   ]
  },
  {
   "cell_type": "markdown",
   "metadata": {},
   "source": [
    "# Answer::The maximum ROA for 95% confidence interval for ROA is 0.02985240"
   ]
  },
  {
   "cell_type": "markdown",
   "metadata": {},
   "source": [
    "# 2.\tIs ROA statistically different for solvent versus bankrupt firms? If so, which set of firms have higher ROA? To answer these questions, split the data into two subsets for solvent and bankrupt firms. Construct two 95% confidence intervals, one for solvent and one for bankrupt firms.  Based on these two confidence intervals, is it likely that the average ROA of solvent firms is the same as that of bankrupt firms? Write the R code that you used to derive this inference."
   ]
  },
  {
   "cell_type": "code",
   "execution_count": 13,
   "metadata": {},
   "outputs": [
    {
     "data": {
      "text/html": [
       "<table>\n",
       "<thead><tr><th></th><th scope=col>CASH_DEBT</th><th scope=col>ROA</th><th scope=col>CURRENT</th><th scope=col>ASSET_SALES</th><th scope=col>Status</th></tr></thead>\n",
       "<tbody>\n",
       "\t<tr><th scope=row>3</th><td>-0.56   </td><td>-0.31   </td><td>1.51    </td><td>0.16    </td><td>Bankrupt</td></tr>\n",
       "\t<tr><th scope=row>4</th><td> 0.12   </td><td> 0.11   </td><td>1.14    </td><td>0.17    </td><td>Bankrupt</td></tr>\n",
       "\t<tr><th scope=row>5</th><td>-0.23   </td><td>-0.30   </td><td>0.33    </td><td>0.18    </td><td>Bankrupt</td></tr>\n",
       "\t<tr><th scope=row>8</th><td> 0.07   </td><td> 0.02   </td><td>1.31    </td><td>0.25    </td><td>Bankrupt</td></tr>\n",
       "\t<tr><th scope=row>9</th><td>-0.07   </td><td>-0.09   </td><td>1.45    </td><td>0.26    </td><td>Bankrupt</td></tr>\n",
       "\t<tr><th scope=row>11</th><td> 0.15   </td><td> 0.05   </td><td>1.88    </td><td>0.27    </td><td>Bankrupt</td></tr>\n",
       "\t<tr><th scope=row>12</th><td>-0.14   </td><td>-0.07   </td><td>0.71    </td><td>0.28    </td><td>Bankrupt</td></tr>\n",
       "\t<tr><th scope=row>15</th><td> 0.07   </td><td>-0.01   </td><td>1.37    </td><td>0.34    </td><td>Bankrupt</td></tr>\n",
       "\t<tr><th scope=row>18</th><td> 0.37   </td><td> 0.11   </td><td>1.99    </td><td>0.38    </td><td>Bankrupt</td></tr>\n",
       "\t<tr><th scope=row>20</th><td> 0.06   </td><td> 0.02   </td><td>1.01    </td><td>0.40    </td><td>Bankrupt</td></tr>\n",
       "\t<tr><th scope=row>21</th><td>-0.07   </td><td>-0.06   </td><td>1.37    </td><td>0.40    </td><td>Bankrupt</td></tr>\n",
       "\t<tr><th scope=row>23</th><td>-0.08   </td><td>-0.08   </td><td>1.51    </td><td>0.42    </td><td>Bankrupt</td></tr>\n",
       "\t<tr><th scope=row>24</th><td>-0.14   </td><td>-0.14   </td><td>1.42    </td><td>0.43    </td><td>Bankrupt</td></tr>\n",
       "\t<tr><th scope=row>26</th><td>-0.45   </td><td>-0.41   </td><td>1.09    </td><td>0.45    </td><td>Bankrupt</td></tr>\n",
       "\t<tr><th scope=row>30</th><td>-0.28   </td><td>-0.27   </td><td>1.27    </td><td>0.51    </td><td>Bankrupt</td></tr>\n",
       "\t<tr><th scope=row>38</th><td> 0.01   </td><td> 0.00   </td><td>1.26    </td><td>0.60    </td><td>Bankrupt</td></tr>\n",
       "\t<tr><th scope=row>40</th><td>-0.28   </td><td>-0.23   </td><td>1.19    </td><td>0.66    </td><td>Bankrupt</td></tr>\n",
       "\t<tr><th scope=row>41</th><td>-0.10   </td><td>-0.09   </td><td>1.56    </td><td>0.67    </td><td>Bankrupt</td></tr>\n",
       "\t<tr><th scope=row>44</th><td> 0.01   </td><td> 0.00   </td><td>2.15    </td><td>0.70    </td><td>Bankrupt</td></tr>\n",
       "\t<tr><th scope=row>45</th><td> 0.04   </td><td> 0.01   </td><td>1.50    </td><td>0.71    </td><td>Bankrupt</td></tr>\n",
       "\t<tr><th scope=row>46</th><td> 0.05   </td><td> 0.03   </td><td>1.68    </td><td>0.95    </td><td>Bankrupt</td></tr>\n",
       "</tbody>\n",
       "</table>\n"
      ],
      "text/latex": [
       "\\begin{tabular}{r|lllll}\n",
       "  & CASH\\_DEBT & ROA & CURRENT & ASSET\\_SALES & Status\\\\\n",
       "\\hline\n",
       "\t3 & -0.56    & -0.31    & 1.51     & 0.16     & Bankrupt\\\\\n",
       "\t4 &  0.12    &  0.11    & 1.14     & 0.17     & Bankrupt\\\\\n",
       "\t5 & -0.23    & -0.30    & 0.33     & 0.18     & Bankrupt\\\\\n",
       "\t8 &  0.07    &  0.02    & 1.31     & 0.25     & Bankrupt\\\\\n",
       "\t9 & -0.07    & -0.09    & 1.45     & 0.26     & Bankrupt\\\\\n",
       "\t11 &  0.15    &  0.05    & 1.88     & 0.27     & Bankrupt\\\\\n",
       "\t12 & -0.14    & -0.07    & 0.71     & 0.28     & Bankrupt\\\\\n",
       "\t15 &  0.07    & -0.01    & 1.37     & 0.34     & Bankrupt\\\\\n",
       "\t18 &  0.37    &  0.11    & 1.99     & 0.38     & Bankrupt\\\\\n",
       "\t20 &  0.06    &  0.02    & 1.01     & 0.40     & Bankrupt\\\\\n",
       "\t21 & -0.07    & -0.06    & 1.37     & 0.40     & Bankrupt\\\\\n",
       "\t23 & -0.08    & -0.08    & 1.51     & 0.42     & Bankrupt\\\\\n",
       "\t24 & -0.14    & -0.14    & 1.42     & 0.43     & Bankrupt\\\\\n",
       "\t26 & -0.45    & -0.41    & 1.09     & 0.45     & Bankrupt\\\\\n",
       "\t30 & -0.28    & -0.27    & 1.27     & 0.51     & Bankrupt\\\\\n",
       "\t38 &  0.01    &  0.00    & 1.26     & 0.60     & Bankrupt\\\\\n",
       "\t40 & -0.28    & -0.23    & 1.19     & 0.66     & Bankrupt\\\\\n",
       "\t41 & -0.10    & -0.09    & 1.56     & 0.67     & Bankrupt\\\\\n",
       "\t44 &  0.01    &  0.00    & 2.15     & 0.70     & Bankrupt\\\\\n",
       "\t45 &  0.04    &  0.01    & 1.50     & 0.71     & Bankrupt\\\\\n",
       "\t46 &  0.05    &  0.03    & 1.68     & 0.95     & Bankrupt\\\\\n",
       "\\end{tabular}\n"
      ],
      "text/markdown": [
       "\n",
       "| <!--/--> | CASH_DEBT | ROA | CURRENT | ASSET_SALES | Status | \n",
       "|---|---|---|---|---|---|---|---|---|---|---|---|---|---|---|---|---|---|---|---|---|\n",
       "| 3 | -0.56    | -0.31    | 1.51     | 0.16     | Bankrupt | \n",
       "| 4 |  0.12    |  0.11    | 1.14     | 0.17     | Bankrupt | \n",
       "| 5 | -0.23    | -0.30    | 0.33     | 0.18     | Bankrupt | \n",
       "| 8 |  0.07    |  0.02    | 1.31     | 0.25     | Bankrupt | \n",
       "| 9 | -0.07    | -0.09    | 1.45     | 0.26     | Bankrupt | \n",
       "| 11 |  0.15    |  0.05    | 1.88     | 0.27     | Bankrupt | \n",
       "| 12 | -0.14    | -0.07    | 0.71     | 0.28     | Bankrupt | \n",
       "| 15 |  0.07    | -0.01    | 1.37     | 0.34     | Bankrupt | \n",
       "| 18 |  0.37    |  0.11    | 1.99     | 0.38     | Bankrupt | \n",
       "| 20 |  0.06    |  0.02    | 1.01     | 0.40     | Bankrupt | \n",
       "| 21 | -0.07    | -0.06    | 1.37     | 0.40     | Bankrupt | \n",
       "| 23 | -0.08    | -0.08    | 1.51     | 0.42     | Bankrupt | \n",
       "| 24 | -0.14    | -0.14    | 1.42     | 0.43     | Bankrupt | \n",
       "| 26 | -0.45    | -0.41    | 1.09     | 0.45     | Bankrupt | \n",
       "| 30 | -0.28    | -0.27    | 1.27     | 0.51     | Bankrupt | \n",
       "| 38 |  0.01    |  0.00    | 1.26     | 0.60     | Bankrupt | \n",
       "| 40 | -0.28    | -0.23    | 1.19     | 0.66     | Bankrupt | \n",
       "| 41 | -0.10    | -0.09    | 1.56     | 0.67     | Bankrupt | \n",
       "| 44 |  0.01    |  0.00    | 2.15     | 0.70     | Bankrupt | \n",
       "| 45 |  0.04    |  0.01    | 1.50     | 0.71     | Bankrupt | \n",
       "| 46 |  0.05    |  0.03    | 1.68     | 0.95     | Bankrupt | \n",
       "\n",
       "\n"
      ],
      "text/plain": [
       "   CASH_DEBT ROA   CURRENT ASSET_SALES Status  \n",
       "3  -0.56     -0.31 1.51    0.16        Bankrupt\n",
       "4   0.12      0.11 1.14    0.17        Bankrupt\n",
       "5  -0.23     -0.30 0.33    0.18        Bankrupt\n",
       "8   0.07      0.02 1.31    0.25        Bankrupt\n",
       "9  -0.07     -0.09 1.45    0.26        Bankrupt\n",
       "11  0.15      0.05 1.88    0.27        Bankrupt\n",
       "12 -0.14     -0.07 0.71    0.28        Bankrupt\n",
       "15  0.07     -0.01 1.37    0.34        Bankrupt\n",
       "18  0.37      0.11 1.99    0.38        Bankrupt\n",
       "20  0.06      0.02 1.01    0.40        Bankrupt\n",
       "21 -0.07     -0.06 1.37    0.40        Bankrupt\n",
       "23 -0.08     -0.08 1.51    0.42        Bankrupt\n",
       "24 -0.14     -0.14 1.42    0.43        Bankrupt\n",
       "26 -0.45     -0.41 1.09    0.45        Bankrupt\n",
       "30 -0.28     -0.27 1.27    0.51        Bankrupt\n",
       "38  0.01      0.00 1.26    0.60        Bankrupt\n",
       "40 -0.28     -0.23 1.19    0.66        Bankrupt\n",
       "41 -0.10     -0.09 1.56    0.67        Bankrupt\n",
       "44  0.01      0.00 2.15    0.70        Bankrupt\n",
       "45  0.04      0.01 1.50    0.71        Bankrupt\n",
       "46  0.05      0.03 1.68    0.95        Bankrupt"
      ]
     },
     "metadata": {},
     "output_type": "display_data"
    },
    {
     "data": {
      "image/png": "[encoded data removed]",
      "text/plain": [
       "Plot with title \"Histogram of bkrpt_roa$ROA\""
      ]
     },
     "metadata": {},
     "output_type": "display_data"
    }
   ],
   "source": [
    "bkrpt_roa <- subset(data, Status == 'Bankrupt')\n",
    "bkrpt_roa\n",
    "hist(bkrpt_roa$ROA)"
   ]
  },
  {
   "cell_type": "code",
   "execution_count": 14,
   "metadata": {},
   "outputs": [
    {
     "data": {
      "text/html": [
       "<table>\n",
       "<thead><tr><th></th><th scope=col>CASH_DEBT</th><th scope=col>ROA</th><th scope=col>CURRENT</th><th scope=col>ASSET_SALES</th><th scope=col>Status</th></tr></thead>\n",
       "<tbody>\n",
       "\t<tr><th scope=row>1</th><td> 0.58  </td><td> 0.04  </td><td>5.06   </td><td>0.13   </td><td>Solvent</td></tr>\n",
       "\t<tr><th scope=row>2</th><td> 0.17  </td><td> 0.04  </td><td>2.45   </td><td>0.14   </td><td>Solvent</td></tr>\n",
       "\t<tr><th scope=row>6</th><td> 0.48  </td><td> 0.09  </td><td>1.24   </td><td>0.18   </td><td>Solvent</td></tr>\n",
       "\t<tr><th scope=row>7</th><td> 0.16  </td><td> 0.05  </td><td>2.31   </td><td>0.20   </td><td>Solvent</td></tr>\n",
       "\t<tr><th scope=row>10</th><td> 0.14  </td><td>-0.03  </td><td>0.46   </td><td>0.26   </td><td>Solvent</td></tr>\n",
       "\t<tr><th scope=row>13</th><td> 0.20  </td><td> 0.08  </td><td>1.99   </td><td>0.30   </td><td>Solvent</td></tr>\n",
       "\t<tr><th scope=row>14</th><td> 0.19  </td><td> 0.05  </td><td>2.25   </td><td>0.33   </td><td>Solvent</td></tr>\n",
       "\t<tr><th scope=row>16</th><td> 0.38  </td><td> 0.11  </td><td>3.27   </td><td>0.35   </td><td>Solvent</td></tr>\n",
       "\t<tr><th scope=row>17</th><td>-0.02  </td><td> 0.02  </td><td>2.05   </td><td>0.35   </td><td>Solvent</td></tr>\n",
       "\t<tr><th scope=row>19</th><td> 0.29  </td><td> 0.06  </td><td>1.84   </td><td>0.38   </td><td>Solvent</td></tr>\n",
       "\t<tr><th scope=row>22</th><td> 0.22  </td><td> 0.08  </td><td>2.35   </td><td>0.40   </td><td>Solvent</td></tr>\n",
       "\t<tr><th scope=row>25</th><td> 0.56  </td><td> 0.11  </td><td>4.29   </td><td>0.44   </td><td>Solvent</td></tr>\n",
       "\t<tr><th scope=row>27</th><td> 0.47  </td><td> 0.14  </td><td>2.92   </td><td>0.45   </td><td>Solvent</td></tr>\n",
       "\t<tr><th scope=row>28</th><td>-0.33  </td><td>-0.09  </td><td>3.01   </td><td>0.47   </td><td>Solvent</td></tr>\n",
       "\t<tr><th scope=row>29</th><td> 0.54  </td><td> 0.11  </td><td>2.33   </td><td>0.48   </td><td>Solvent</td></tr>\n",
       "\t<tr><th scope=row>31</th><td> 0.17  </td><td> 0.07  </td><td>1.80   </td><td>0.52   </td><td>Solvent</td></tr>\n",
       "\t<tr><th scope=row>32</th><td> 0.14  </td><td> 0.07  </td><td>2.61   </td><td>0.52   </td><td>Solvent</td></tr>\n",
       "\t<tr><th scope=row>33</th><td> 0.08  </td><td> 0.02  </td><td>2.01   </td><td>0.53   </td><td>Solvent</td></tr>\n",
       "\t<tr><th scope=row>34</th><td> 0.51  </td><td> 0.10  </td><td>2.49   </td><td>0.54   </td><td>Solvent</td></tr>\n",
       "\t<tr><th scope=row>35</th><td> 0.15  </td><td> 0.05  </td><td>2.17   </td><td>0.55   </td><td>Solvent</td></tr>\n",
       "\t<tr><th scope=row>36</th><td> 0.15  </td><td> 0.06  </td><td>2.23   </td><td>0.56   </td><td>Solvent</td></tr>\n",
       "\t<tr><th scope=row>37</th><td>-0.10  </td><td>-0.01  </td><td>2.50   </td><td>0.58   </td><td>Solvent</td></tr>\n",
       "\t<tr><th scope=row>39</th><td> 0.32  </td><td> 0.07  </td><td>4.24   </td><td>0.63   </td><td>Solvent</td></tr>\n",
       "\t<tr><th scope=row>42</th><td> 0.31  </td><td> 0.05  </td><td>4.45   </td><td>0.69   </td><td>Solvent</td></tr>\n",
       "\t<tr><th scope=row>43</th><td> 0.12  </td><td> 0.05  </td><td>2.52   </td><td>0.69   </td><td>Solvent</td></tr>\n",
       "</tbody>\n",
       "</table>\n"
      ],
      "text/latex": [
       "\\begin{tabular}{r|lllll}\n",
       "  & CASH\\_DEBT & ROA & CURRENT & ASSET\\_SALES & Status\\\\\n",
       "\\hline\n",
       "\t1 &  0.58   &  0.04   & 5.06    & 0.13    & Solvent\\\\\n",
       "\t2 &  0.17   &  0.04   & 2.45    & 0.14    & Solvent\\\\\n",
       "\t6 &  0.48   &  0.09   & 1.24    & 0.18    & Solvent\\\\\n",
       "\t7 &  0.16   &  0.05   & 2.31    & 0.20    & Solvent\\\\\n",
       "\t10 &  0.14   & -0.03   & 0.46    & 0.26    & Solvent\\\\\n",
       "\t13 &  0.20   &  0.08   & 1.99    & 0.30    & Solvent\\\\\n",
       "\t14 &  0.19   &  0.05   & 2.25    & 0.33    & Solvent\\\\\n",
       "\t16 &  0.38   &  0.11   & 3.27    & 0.35    & Solvent\\\\\n",
       "\t17 & -0.02   &  0.02   & 2.05    & 0.35    & Solvent\\\\\n",
       "\t19 &  0.29   &  0.06   & 1.84    & 0.38    & Solvent\\\\\n",
       "\t22 &  0.22   &  0.08   & 2.35    & 0.40    & Solvent\\\\\n",
       "\t25 &  0.56   &  0.11   & 4.29    & 0.44    & Solvent\\\\\n",
       "\t27 &  0.47   &  0.14   & 2.92    & 0.45    & Solvent\\\\\n",
       "\t28 & -0.33   & -0.09   & 3.01    & 0.47    & Solvent\\\\\n",
       "\t29 &  0.54   &  0.11   & 2.33    & 0.48    & Solvent\\\\\n",
       "\t31 &  0.17   &  0.07   & 1.80    & 0.52    & Solvent\\\\\n",
       "\t32 &  0.14   &  0.07   & 2.61    & 0.52    & Solvent\\\\\n",
       "\t33 &  0.08   &  0.02   & 2.01    & 0.53    & Solvent\\\\\n",
       "\t34 &  0.51   &  0.10   & 2.49    & 0.54    & Solvent\\\\\n",
       "\t35 &  0.15   &  0.05   & 2.17    & 0.55    & Solvent\\\\\n",
       "\t36 &  0.15   &  0.06   & 2.23    & 0.56    & Solvent\\\\\n",
       "\t37 & -0.10   & -0.01   & 2.50    & 0.58    & Solvent\\\\\n",
       "\t39 &  0.32   &  0.07   & 4.24    & 0.63    & Solvent\\\\\n",
       "\t42 &  0.31   &  0.05   & 4.45    & 0.69    & Solvent\\\\\n",
       "\t43 &  0.12   &  0.05   & 2.52    & 0.69    & Solvent\\\\\n",
       "\\end{tabular}\n"
      ],
      "text/markdown": [
       "\n",
       "| <!--/--> | CASH_DEBT | ROA | CURRENT | ASSET_SALES | Status | \n",
       "|---|---|---|---|---|---|---|---|---|---|---|---|---|---|---|---|---|---|---|---|---|---|---|---|---|\n",
       "| 1 |  0.58   |  0.04   | 5.06    | 0.13    | Solvent | \n",
       "| 2 |  0.17   |  0.04   | 2.45    | 0.14    | Solvent | \n",
       "| 6 |  0.48   |  0.09   | 1.24    | 0.18    | Solvent | \n",
       "| 7 |  0.16   |  0.05   | 2.31    | 0.20    | Solvent | \n",
       "| 10 |  0.14   | -0.03   | 0.46    | 0.26    | Solvent | \n",
       "| 13 |  0.20   |  0.08   | 1.99    | 0.30    | Solvent | \n",
       "| 14 |  0.19   |  0.05   | 2.25    | 0.33    | Solvent | \n",
       "| 16 |  0.38   |  0.11   | 3.27    | 0.35    | Solvent | \n",
       "| 17 | -0.02   |  0.02   | 2.05    | 0.35    | Solvent | \n",
       "| 19 |  0.29   |  0.06   | 1.84    | 0.38    | Solvent | \n",
       "| 22 |  0.22   |  0.08   | 2.35    | 0.40    | Solvent | \n",
       "| 25 |  0.56   |  0.11   | 4.29    | 0.44    | Solvent | \n",
       "| 27 |  0.47   |  0.14   | 2.92    | 0.45    | Solvent | \n",
       "| 28 | -0.33   | -0.09   | 3.01    | 0.47    | Solvent | \n",
       "| 29 |  0.54   |  0.11   | 2.33    | 0.48    | Solvent | \n",
       "| 31 |  0.17   |  0.07   | 1.80    | 0.52    | Solvent | \n",
       "| 32 |  0.14   |  0.07   | 2.61    | 0.52    | Solvent | \n",
       "| 33 |  0.08   |  0.02   | 2.01    | 0.53    | Solvent | \n",
       "| 34 |  0.51   |  0.10   | 2.49    | 0.54    | Solvent | \n",
       "| 35 |  0.15   |  0.05   | 2.17    | 0.55    | Solvent | \n",
       "| 36 |  0.15   |  0.06   | 2.23    | 0.56    | Solvent | \n",
       "| 37 | -0.10   | -0.01   | 2.50    | 0.58    | Solvent | \n",
       "| 39 |  0.32   |  0.07   | 4.24    | 0.63    | Solvent | \n",
       "| 42 |  0.31   |  0.05   | 4.45    | 0.69    | Solvent | \n",
       "| 43 |  0.12   |  0.05   | 2.52    | 0.69    | Solvent | \n",
       "\n",
       "\n"
      ],
      "text/plain": [
       "   CASH_DEBT ROA   CURRENT ASSET_SALES Status \n",
       "1   0.58      0.04 5.06    0.13        Solvent\n",
       "2   0.17      0.04 2.45    0.14        Solvent\n",
       "6   0.48      0.09 1.24    0.18        Solvent\n",
       "7   0.16      0.05 2.31    0.20        Solvent\n",
       "10  0.14     -0.03 0.46    0.26        Solvent\n",
       "13  0.20      0.08 1.99    0.30        Solvent\n",
       "14  0.19      0.05 2.25    0.33        Solvent\n",
       "16  0.38      0.11 3.27    0.35        Solvent\n",
       "17 -0.02      0.02 2.05    0.35        Solvent\n",
       "19  0.29      0.06 1.84    0.38        Solvent\n",
       "22  0.22      0.08 2.35    0.40        Solvent\n",
       "25  0.56      0.11 4.29    0.44        Solvent\n",
       "27  0.47      0.14 2.92    0.45        Solvent\n",
       "28 -0.33     -0.09 3.01    0.47        Solvent\n",
       "29  0.54      0.11 2.33    0.48        Solvent\n",
       "31  0.17      0.07 1.80    0.52        Solvent\n",
       "32  0.14      0.07 2.61    0.52        Solvent\n",
       "33  0.08      0.02 2.01    0.53        Solvent\n",
       "34  0.51      0.10 2.49    0.54        Solvent\n",
       "35  0.15      0.05 2.17    0.55        Solvent\n",
       "36  0.15      0.06 2.23    0.56        Solvent\n",
       "37 -0.10     -0.01 2.50    0.58        Solvent\n",
       "39  0.32      0.07 4.24    0.63        Solvent\n",
       "42  0.31      0.05 4.45    0.69        Solvent\n",
       "43  0.12      0.05 2.52    0.69        Solvent"
      ]
     },
     "metadata": {},
     "output_type": "display_data"
    },
    {
     "data": {
      "image/png": "[encoded data removed]",
      "text/plain": [
       "Plot with title \"Histogram of solvent_roa$ROA\""
      ]
     },
     "metadata": {},
     "output_type": "display_data"
    }
   ],
   "source": [
    "solvent_roa <- subset(data, Status == 'Solvent')\n",
    "solvent_roa\n",
    "hist(solvent_roa$ROA)"
   ]
  },
  {
   "cell_type": "code",
   "execution_count": 9,
   "metadata": {},
   "outputs": [
    {
     "data": {
      "text/plain": [
       "\n",
       "\tOne Sample t-test\n",
       "\n",
       "data:  bkrpt_roa$ROA\n",
       "t = -2.5748, df = 20, p-value = 0.01808\n",
       "alternative hypothesis: true mean is not equal to 0\n",
       "95 percent confidence interval:\n",
       " -0.14739701 -0.01546013\n",
       "sample estimates:\n",
       "  mean of x \n",
       "-0.08142857 \n"
      ]
     },
     "metadata": {},
     "output_type": "display_data"
    }
   ],
   "source": [
    "t.test(bkrpt_roa$ROA)"
   ]
  },
  {
   "cell_type": "code",
   "execution_count": 10,
   "metadata": {},
   "outputs": [
    {
     "data": {
      "text/plain": [
       "\n",
       "\tOne Sample t-test\n",
       "\n",
       "data:  solvent_roa$ROA\n",
       "t = 5.7036, df = 24, p-value = 7.092e-06\n",
       "alternative hypothesis: true mean is not equal to 0\n",
       "95 percent confidence interval:\n",
       " 0.03548078 0.07571922\n",
       "sample estimates:\n",
       "mean of x \n",
       "   0.0556 \n"
      ]
     },
     "metadata": {},
     "output_type": "display_data"
    }
   ],
   "source": [
    "t.test(solvent_roa$ROA)"
   ]
  },
  {
   "cell_type": "markdown",
   "metadata": {},
   "source": [
    "# The mean of ROA for Bankrupt and Solvent companies show a wide difference. Thus companies with ROA between -0.1473 and -0.0154 can go bankrupt with an confidence of 95%. "
   ]
  }
 ],
 "metadata": {
  "kernelspec": {
   "display_name": "R",
   "language": "R",
   "name": "ir"
  },
  "language_info": {
   "codemirror_mode": "r",
   "file_extension": ".r",
   "mimetype": "text/x-r-source",
   "name": "R",
   "pygments_lexer": "r",
   "version": "3.4.3"
  }
 },
 "nbformat": 4,
 "nbformat_minor": 2
}
